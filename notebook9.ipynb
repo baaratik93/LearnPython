{
 "cells": [
  {
   "cell_type": "code",
   "execution_count": 93,
   "metadata": {},
   "outputs": [],
   "source": [
    "operators =[[\"776280898\",\"782324455\",\"779897656\"],\n",
    "            [\"706280898\",\"709997865\"],\n",
    "            [\"756280898\",\"754569988\"],\n",
    "            [\"766458877\",\"769806657\"]]"
   ]
  },
  {
   "cell_type": "code",
   "execution_count": 95,
   "metadata": {},
   "outputs": [
    {
     "name": "stdout",
     "output_type": "stream",
     "text": [
      "---------------------------------------------------------------------------------\n",
      "ORANGE:\t\t\t | 776280898      | 782324455      | 779897656      \n",
      "------------------------------------------------------\n",
      "EXPRESSO:\t\t | 706280898      | 709997865      \n",
      "------------------------------------------------------\n",
      "PROMOBILE:\t\t | 756280898      | 754569988      \n"
     ]
    }
   ],
   "source": [
    "\n",
    "        \n",
    "ShowOperator(\"ORANGE:\\t\\t\\t\",operators[0])\n",
    "ShowOperator(\"EXPRESSO:\\t\\t\",operators[1])\n",
    "ShowOperator(\"PROMOBILE:\\t\\t\",operators[2])"
   ]
  },
  {
   "cell_type": "code",
   "execution_count": 74,
   "metadata": {},
   "outputs": [
    {
     "data": {
      "text/plain": [
       "'7799987868767656776565446587678576765765'"
      ]
     },
     "execution_count": 74,
     "metadata": {},
     "output_type": "execute_result"
    }
   ],
   "source": [
    "\n",
    "\n",
    "def SupprimeEspace(ch):\n",
    "    s=\"\"\n",
    "    for i in ch:\n",
    "        if i != \" \":\n",
    "            s+=i\n",
    "        else:\n",
    "            continue\n",
    "        \n",
    "    return s"
   ]
  },
  {
   "cell_type": "code",
   "execution_count": 88,
   "metadata": {},
   "outputs": [
    {
     "name": "stdout",
     "output_type": "stream",
     "text": [
      "Je vais à l'école\n"
     ]
    }
   ],
   "source": [
    "ch = \"Je   vais  à         l'école\"\n",
    "ch1=''\n",
    "for i in range(len(ch)):\n",
    "    if ch[i]==\" \" and ch[i+1]==\" \":\n",
    "        continue\n",
    "    else:\n",
    "        ch1+=ch[i]\n",
    "\n",
    "print(ch1)"
   ]
  }
 ],
 "metadata": {
  "kernelspec": {
   "display_name": "Python 3",
   "language": "python",
   "name": "python3"
  },
  "language_info": {
   "codemirror_mode": {
    "name": "ipython",
    "version": 3
   },
   "file_extension": ".py",
   "mimetype": "text/x-python",
   "name": "python",
   "nbconvert_exporter": "python",
   "pygments_lexer": "ipython3",
   "version": "3.10.6"
  },
  "orig_nbformat": 4,
  "vscode": {
   "interpreter": {
    "hash": "916dbcbb3f70747c44a77c7bcd40155683ae19c65e1c03b4aa3499c5328201f1"
   }
  }
 },
 "nbformat": 4,
 "nbformat_minor": 2
}
