{
 "cells": [
  {
   "cell_type": "code",
   "execution_count": 142,
   "metadata": {},
   "outputs": [],
   "source": [
    "operators ={\n",
    "            \"ORANGE\":[\"776280898\",\"782324455\"],\n",
    "            \"EXPRESSO\":[\"706280898\",\"709997865\",\"709909988\"],\n",
    "            \"PROMOBILE\":[\"756280898\",\"754569988\"],\n",
    "            \"FREE\":[\"766458877\",\"769806657\"]\n",
    "            }\n",
    "clients = [\n",
    "    {\n",
    "        \"prenom\": \"Penda\",\n",
    "        \"nom\":  \"DIA\",\n",
    "        \"telephone\": \"766280898\"\n",
    "    },\n",
    "    {\n",
    "        \"prenom\": \"Yaya\",\n",
    "        \"nom\":  \"Wade\",\n",
    "        \"telephone\": \"756280898\"\n",
    "    },\n",
    "    {\n",
    "        \"prenom\": \"Amina\",\n",
    "        \"nom\":  \"THIAM\",\n",
    "        \"telephone\": \"706280898\"\n",
    "    },\n",
    "    {\n",
    "        \"prenom\": \"Dooro\",\n",
    "        \"nom\":  \"Dieng\",\n",
    "        \"telephone\": \"776280898\"\n",
    "    },\n",
    "    {\n",
    "        \"prenom\": \"Ousmane\",\n",
    "        \"nom\":  \"Ba\",\n",
    "        \"telephone\": \"706659988\"\n",
    "    }\n",
    "]"
   ]
  },
  {
   "cell_type": "code",
   "execution_count": 151,
   "metadata": {},
   "outputs": [
    {
     "name": "stdout",
     "output_type": "stream",
     "text": [
      "[['Dooro Dieng'], ['Amina THIAM', 'Ousmane Ba'], ['Yaya Wade'], ['Penda DIA']]\n",
      "['Dooro Dieng', 'Amina THIAM', 'Ousmane Ba', 'Yaya Wade', 'Penda DIA']\n"
     ]
    }
   ],
   "source": [
    "tabClients = []\n",
    "OR = []\n",
    "EX = []\n",
    "FR = []\n",
    "PM = []\n",
    "for k in clients:\n",
    "    code = k[\"telephone\"][0]+k[\"telephone\"][1]\n",
    "    if code in [\"77\",\"78\"]:\n",
    "        OR.append(k[\"prenom\"]+\" \"+k[\"nom\"])\n",
    "    elif code == \"70\":\n",
    "        EX.append(k[\"prenom\"]+\" \"+k[\"nom\"])\n",
    "    elif code == \"76\":\n",
    "        FR.append(k[\"prenom\"]+\" \"+k[\"nom\"])\n",
    "    elif code == \"75\":\n",
    "        PM.append(k[\"prenom\"]+\" \"+k[\"nom\"])\n",
    "        \n",
    "print([OR,EX,PM,FR])\n",
    "print(OR+EX+PM+FR)\n",
    "ch = [OR,EX,PM,FR]\n",
    "\n",
    "\n",
    "#AJUSTER LES LIGNES\n"
   ]
  },
  {
   "cell_type": "code",
   "execution_count": 158,
   "metadata": {},
   "outputs": [
    {
     "data": {
      "text/plain": [
       "1"
      ]
     },
     "execution_count": 158,
     "metadata": {},
     "output_type": "execute_result"
    }
   ],
   "source": [
    "max = 0\n",
    "for i in range(len(ch)-1):\n",
    "    if len(ch[i]) >= len(ch[i+1]):\n",
    "        max = len(ch[i])\n",
    "    # else:\n",
    "    #     max = len(ch[i+1])\n",
    "        \n",
    "max"
   ]
  },
  {
   "cell_type": "code",
   "execution_count": 144,
   "metadata": {},
   "outputs": [
    {
     "name": "stdout",
     "output_type": "stream",
     "text": [
      "['ORANGE', 'EXPRESSO', 'PROMOBILE', 'FREE']\n",
      "\t\t\t+-------------------------------------------------------------------------------------------------------+\n",
      "\t\t\t|         ORANGE          |        EXPRESSO         |        PROMOBILE        |          FREE           |\n",
      "\t\t\t+-------------------------------------------------------------------------------------------------------+\n",
      "\t\t\t|       Dooro Dieng       |       Amina THIAM       |       Ousmane Ba        |        Yaya Wade        |\n"
     ]
    }
   ],
   "source": [
    "tabOp = []\n",
    "lch = [OR,EX,PM,FR]\n",
    "for k,v in operators.items():\n",
    "    tabOp.append(k)\n",
    "print(tabOp)\n",
    "print(\"\\t\\t\\t+-------------------------------------------------------------------------------------------------------+\")\n",
    "print(\"\\t\\t\\t|{:^25}|{:^25}|{:^25}|{:^25}|\".format(*tabOp))\n",
    "print(\"\\t\\t\\t+-------------------------------------------------------------------------------------------------------+\")\n",
    "for i in OR:\n",
    "    print(\"\\t\\t\\t|{:^25}|{:^25}|{:^25}|{:^25}|\".format(*OR,*EX,*PM,*FR))\n",
    "# print(\"\\t\\t\\t+-------------------------------------------------------------------------------------------------------+\")\n",
    "# for k in lch:\n",
    "#     for j in lch:\n",
    "#         for i in j:\n",
    "#             print(\"\\t\\t\\t|{:^25}|{:^25}|{:^25}|{:^25}|\".format(*j))\n",
    "\n"
   ]
  },
  {
   "cell_type": "code",
   "execution_count": 74,
   "metadata": {},
   "outputs": [
    {
     "data": {
      "text/plain": [
       "'7799987868767656776565446587678576765765'"
      ]
     },
     "execution_count": 74,
     "metadata": {},
     "output_type": "execute_result"
    }
   ],
   "source": [
    "\n",
    "\n",
    "def SupprimeEspace(ch):\n",
    "    s=\"\"\n",
    "    for i in ch:\n",
    "        if i != \" \":\n",
    "            s+=i\n",
    "        else:\n",
    "            continue\n",
    "        \n",
    "    return s"
   ]
  },
  {
   "cell_type": "code",
   "execution_count": 88,
   "metadata": {},
   "outputs": [
    {
     "name": "stdout",
     "output_type": "stream",
     "text": [
      "Je vais à l'école\n"
     ]
    }
   ],
   "source": [
    "ch = \"Je   vais  à         l'école\"\n",
    "ch1=''\n",
    "for i in range(len(ch)):\n",
    "    if ch[i]==\" \" and ch[i+1]==\" \":\n",
    "        continue\n",
    "    else:\n",
    "        ch1+=ch[i]\n",
    "\n",
    "print(ch1)"
   ]
  }
 ],
 "metadata": {
  "kernelspec": {
   "display_name": "Python 3",
   "language": "python",
   "name": "python3"
  },
  "language_info": {
   "codemirror_mode": {
    "name": "ipython",
    "version": 3
   },
   "file_extension": ".py",
   "mimetype": "text/x-python",
   "name": "python",
   "nbconvert_exporter": "python",
   "pygments_lexer": "ipython3",
   "version": "3.10.6 (main, Nov 14 2022, 16:10:14) [GCC 11.3.0]"
  },
  "orig_nbformat": 4,
  "vscode": {
   "interpreter": {
    "hash": "916dbcbb3f70747c44a77c7bcd40155683ae19c65e1c03b4aa3499c5328201f1"
   }
  }
 },
 "nbformat": 4,
 "nbformat_minor": 2
}
