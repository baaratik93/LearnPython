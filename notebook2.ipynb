{
 "cells": [
  {
   "cell_type": "code",
   "execution_count": 5,
   "metadata": {},
   "outputs": [
    {
     "data": {
      "text/plain": [
       "7"
      ]
     },
     "execution_count": 5,
     "metadata": {},
     "output_type": "execute_result"
    }
   ],
   "source": [
    "def FistSignifiantLetter(ch):\n",
    "        s=\"\"\n",
    "        t=False\n",
    "        for i in range(0,len(ch)):\n",
    "                if ch[i] != \" \":\n",
    "                        t=True\n",
    "                        return i\n",
    "                    \n",
    "def LastSignifiantLetter(ch):\n",
    "    s=\"\"\n",
    "    t=False\n",
    "    for i in range(len(ch)-1,0,-1):\n",
    "        if ch[i] != \" \":\n",
    "                        t=True\n",
    "                        return i\n",
    "                    \n",
    "            \n",
    "def FirstAndLastSignifiantLetter(ch,position):\n",
    "    start = 0\n",
    "    stop =0\n",
    "    step = 0\n",
    "    s=\"\"\n",
    "    t=False\n",
    "    if position == \"f\":\n",
    "        start = 0\n",
    "        stop = len(ch)\n",
    "        step = 1\n",
    "    elif position == \"l\":\n",
    "        start = len(ch)-1\n",
    "        stop = 0\n",
    "        step = -1\n",
    "    for i in range(start,stop,step):\n",
    "        if ch[i] != \" \":\n",
    "                        t=True\n",
    "                        return i\n",
    "        \n",
    "        \n"
   ]
  }
 ],
 "metadata": {
  "kernelspec": {
   "display_name": "Python 3",
   "language": "python",
   "name": "python3"
  },
  "language_info": {
   "codemirror_mode": {
    "name": "ipython",
    "version": 3
   },
   "file_extension": ".py",
   "mimetype": "text/x-python",
   "name": "python",
   "nbconvert_exporter": "python",
   "pygments_lexer": "ipython3",
   "version": "3.10.6"
  },
  "orig_nbformat": 4,
  "vscode": {
   "interpreter": {
    "hash": "916dbcbb3f70747c44a77c7bcd40155683ae19c65e1c03b4aa3499c5328201f1"
   }
  }
 },
 "nbformat": 4,
 "nbformat_minor": 2
}
