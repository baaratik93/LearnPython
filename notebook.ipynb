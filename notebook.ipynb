{
 "cells": [
  {
   "cell_type": "code",
   "execution_count": null,
   "metadata": {},
   "outputs": [],
   "source": [
    "etudiants =[\n",
    "    {\n",
    "        \"prenom\": \"Mamadou\",\n",
    "        \"nom\": \"Thiam\",\n",
    "        \"telephone\": 776280909\n",
    "    },\n",
    "    {\n",
    "        \"prenom\": \"Fama\",\n",
    "        \"nom\": \"Mbow\",\n",
    "        \"telephone\": 776549987\n",
    "    },\n",
    "    {\n",
    "        \"prenom\": \"Demba\",\n",
    "        \"nom\": \"BA\",\n",
    "        \"telephone\": 789854432\n",
    "    },\n",
    "    {\n",
    "        \"prenom\": \"Oumy\",\n",
    "        \"nom\": \"DIAW\",\n",
    "        \"telephone\": 769453476\n",
    "    }\n",
    "]\n",
    "\n"
   ]
  },
  {
   "cell_type": "code",
   "execution_count": null,
   "metadata": {},
   "outputs": [],
   "source": [
    "def ShowHandler(etudiants):\n",
    "    print('+---------------------------------------------------------------------------------------------------------------------------------------+')\n",
    "    print('|\\tPrénom\\t|\\tNom\\t|\\tTéléphone\\t|\\tClasses\\t|\\tDev\\t|\\tProj\\t|\\tExam\\t|\\tMoyenne\\t|')\n",
    "    print('+---------------------------------------------------------------------------------------------------------------------------------------+')\n",
    "    a=\"Vide\"\n",
    "    for etudiant in etudiants:\n",
    "        print('|\\t{}\\t|\\t{}\\t|\\t{}\\t|'.format(etudiant[\"prenom\"],etudiant[\"nom\"],etudiant[\"telephone\"]))\n",
    "        print('+---------------------------------------------------------------------------------------------------------------------------------------+')"
   ]
  },
  {
   "cell_type": "code",
   "execution_count": null,
   "metadata": {},
   "outputs": [],
   "source": [
    "etudiants.append({\n",
    "        \"prenom\": \"Bocar\",\n",
    "        \"nom\": \"NDAW\",\n",
    "        \"telephone\": 339887689\n",
    "    })\n",
    "ShowHandler(etudiants)"
   ]
  },
  {
   "cell_type": "code",
   "execution_count": 32,
   "metadata": {},
   "outputs": [
    {
     "name": "stdout",
     "output_type": "stream",
     "text": [
      "8\n",
      "13\n",
      "18\n"
     ]
    }
   ],
   "source": [
    "# for i in e:\n",
    "#     print(i[\"moy\"])\n",
    "# 18 - 13 - 8 - DECROISSANT\n",
    "# print(\"------------------------------------------\")\n",
    "e = [\n",
    "        \n",
    "        {\n",
    "            \"prenom\": \"Demba\",\n",
    "            \"nom\": \"BA\",\n",
    "            \"telephone\": 789854432,\n",
    "            \"classe\":\"L1\",\n",
    "            \"dev\":10,\n",
    "            \"projet\":10,\n",
    "            \"exam\":10,\n",
    "            \"moy\":13\n",
    "        },\n",
    "        {\n",
    "            \"prenom\": \"Mamadou\",\n",
    "            \"nom\": \"Thiam\",\n",
    "            \"telephone\": 776280909,\n",
    "            \"classe\":\"L1\",\n",
    "            \"dev\":12.75,\n",
    "            \"projet\":15.45,\n",
    "            \"exam\":14.25,\n",
    "            \"moy\":8\n",
    "        },\n",
    "        {\n",
    "            \"prenom\": \"Oumy\",\n",
    "            \"nom\": \"DIAW\",\n",
    "            \"telephone\": 769453476,\n",
    "            \"classe\":\"L1\",\n",
    "            \"dev\":10,\n",
    "            \"projet\":10,\n",
    "            \"exam\":10,\n",
    "            \"moy\":18\n",
    "        }\n",
    "    ]\n",
    "for i in range(0,len(e)):\n",
    "    for j in range(i+1,len(e)):\n",
    "        if e[i][\"moy\"] >= e[i+1][\"moy\"]:\n",
    "            e[i],e[j]=e[j],e[i]\n",
    "        \n",
    "        \n",
    "for i in e:\n",
    "    print(i[\"moy\"])\n",
    "    \n",
    "    \n",
    "\n"
   ]
  },
  {
   "cell_type": "code",
   "execution_count": null,
   "metadata": {},
   "outputs": [],
   "source": [
    "a=[1,3,4,12,98,67,56,45]"
   ]
  },
  {
   "cell_type": "code",
   "execution_count": null,
   "metadata": {},
   "outputs": [],
   "source": [
    "my_list = [4, 2, 3, -1, -2, 0, 1]\n",
    "\n",
    "for i in range(len(my_list)):\n",
    "    for j in range(i + 1, len(my_list)):\n",
    "        if my_list[i] < my_list[j]:\n",
    "            my_list[i], my_list[j] = my_list[j], my_list[i]\n",
    "\n",
    "print(my_list)"
   ]
  },
  {
   "cell_type": "code",
   "execution_count": 117,
   "metadata": {},
   "outputs": [],
   "source": [
    "def CustomAppend(list,el):\n",
    "    el = [el]\n",
    "    list+=el\n",
    "    return list"
   ]
  },
  {
   "cell_type": "code",
   "execution_count": 123,
   "metadata": {},
   "outputs": [
    {
     "name": "stdout",
     "output_type": "stream",
     "text": [
      "12\n",
      "14\n",
      "20\n"
     ]
    }
   ],
   "source": [
    "tab=[]\n",
    "CustomAppend(tab,12)\n",
    "CustomAppend(tab,14)\n",
    "CustomAppend(tab,20)\n",
    "for i in tab:\n",
    "    print(i)"
   ]
  },
  {
   "cell_type": "code",
   "execution_count": null,
   "metadata": {},
   "outputs": [],
   "source": [
    "n=9\n",
    "for i in range(n):\n",
    "    for j in range(n):\n",
    "        if i == j:\n",
    "            print((n-i)*' 1 '+ i * ' 0 ')"
   ]
  },
  {
   "cell_type": "code",
   "execution_count": 2,
   "metadata": {},
   "outputs": [
    {
     "data": {
      "text/plain": [
       "16"
      ]
     },
     "execution_count": 2,
     "metadata": {},
     "output_type": "execute_result"
    }
   ],
   "source": [
    "a=\"Bonjour à toutes\"\n",
    "\n",
    "def CustomLength(list):\n",
    "    k = 0\n",
    "    for i in list:\n",
    "        k+=1\n",
    "    return k\n",
    "\n",
    "CustomLength(a)"
   ]
  },
  {
   "cell_type": "code",
   "execution_count": 13,
   "metadata": {},
   "outputs": [
    {
     "data": {
      "text/plain": [
       "['777777777', '786758899', '987778866', '778675544']"
      ]
     },
     "execution_count": 13,
     "metadata": {},
     "output_type": "execute_result"
    }
   ],
   "source": [
    "nums =\"777777777 786758899 987778866 778675544\"\n",
    "\n",
    "ch=\"\"\n",
    "tab = []\n",
    "if nums[-1] != \" \":\n",
    "        nums+=\" \"\n",
    "for i in nums:\n",
    "    if i != \" \":\n",
    "        ch+=i\n",
    "    else:\n",
    "        tab.append(ch)\n",
    "        ch=\"\"\n",
    "        continue\n",
    "        \n",
    "tab\n",
    "\n"
   ]
  },
  {
   "cell_type": "code",
   "execution_count": 157,
   "metadata": {},
   "outputs": [],
   "source": [
    "def StudentsToFile(list):\n",
    "    f = open(\"students.txt\", \"w\")\n",
    "    for k in list:\n",
    "        f.write(\"{}-{}-{}-{}-{}-{}-{}#\".format(k[\"nom\"],k[\"prenom\"],k[\"telephone\"],k[\"classe\"],k[\"dev\"],k[\"projet\"],k[\"exam\"])) \n",
    "    f.close()\n",
    "    \n",
    "StudentsToFile(e)\n",
    "\n"
   ]
  },
  {
   "cell_type": "code",
   "execution_count": 150,
   "metadata": {},
   "outputs": [],
   "source": [
    "def CustomSplit(ch,sep):\n",
    "    if ch[-1]==sep:\n",
    "        pass\n",
    "    else:\n",
    "        ch+=sep\n",
    "    ligne=\"\"\n",
    "    std = []\n",
    "    for i in ch:\n",
    "        if i != sep:\n",
    "            ligne+=i\n",
    "        else:\n",
    "            std.append(ligne)\n",
    "            ligne=\"\"\n",
    "            continue\n",
    "    return std"
   ]
  },
  {
   "cell_type": "code",
   "execution_count": 158,
   "metadata": {},
   "outputs": [
    {
     "data": {
      "text/plain": [
       "[{'nom': 'Thiam',\n",
       "  'prenom': 'Mamadou',\n",
       "  'telephone': 776280909,\n",
       "  'classe': 'L1',\n",
       "  'dev': 12.75,\n",
       "  'projet': 15.45,\n",
       "  'exam': 14.25,\n",
       "  'moy': 0.0},\n",
       " {'nom': 'BA',\n",
       "  'prenom': 'Demba',\n",
       "  'telephone': 789854432,\n",
       "  'classe': 'L1',\n",
       "  'dev': 10.0,\n",
       "  'projet': 10.0,\n",
       "  'exam': 10.0,\n",
       "  'moy': 0.0},\n",
       " {'nom': 'DIAW',\n",
       "  'prenom': 'Oumy',\n",
       "  'telephone': 769453476,\n",
       "  'classe': 'L1',\n",
       "  'dev': 10.0,\n",
       "  'projet': 10.0,\n",
       "  'exam': 10.0,\n",
       "  'moy': 0.0}]"
      ]
     },
     "execution_count": 158,
     "metadata": {},
     "output_type": "execute_result"
    }
   ],
   "source": [
    "def FileToStudent():\n",
    "    f = open(\"students.txt\", \"r\")\n",
    "    ch = f.read()\n",
    "\n",
    "    std = CustomSplit(ch,\"#\")\n",
    "    lstd = []\n",
    "\n",
    "    for j in std:\n",
    "        et = CustomSplit(j,\"-\")\n",
    "        lstd.append({\n",
    "            \"nom\": et[0],\n",
    "            \"prenom\": et[1],\n",
    "            \"telephone\": int(et[2]),\n",
    "            \"classe\": et[3],\n",
    "            \"dev\": float(et[4]),\n",
    "            \"projet\": float(et[5]),\n",
    "            \"exam\": float(et[6]),\n",
    "            \"moy\": 0.0\n",
    "        })\n",
    "    return lstd\n",
    "\n",
    "FileToStudent()\n",
    "\n",
    "        "
   ]
  },
  {
   "cell_type": "code",
   "execution_count": 132,
   "metadata": {},
   "outputs": [
    {
     "name": "stdout",
     "output_type": "stream",
     "text": [
      "['776280898', '774485132', '776888899', '768990099']\n"
     ]
    }
   ],
   "source": [
    "print(CustomSplit(\"776280898 774485132 776888899 768990099\",\" \"))"
   ]
  }
 ],
 "metadata": {
  "kernelspec": {
   "display_name": "Python 3",
   "language": "python",
   "name": "python3"
  },
  "language_info": {
   "codemirror_mode": {
    "name": "ipython",
    "version": 3
   },
   "file_extension": ".py",
   "mimetype": "text/x-python",
   "name": "python",
   "nbconvert_exporter": "python",
   "pygments_lexer": "ipython3",
   "version": "3.10.6"
  },
  "orig_nbformat": 4,
  "vscode": {
   "interpreter": {
    "hash": "916dbcbb3f70747c44a77c7bcd40155683ae19c65e1c03b4aa3499c5328201f1"
   }
  }
 },
 "nbformat": 4,
 "nbformat_minor": 2
}
