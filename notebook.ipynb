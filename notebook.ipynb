{
 "cells": [
  {
   "cell_type": "code",
   "execution_count": null,
   "metadata": {},
   "outputs": [],
   "source": [
    "etudiants =[\n",
    "    {\n",
    "        \"prenom\": \"Mamadou\",\n",
    "        \"nom\": \"Thiam\",\n",
    "        \"telephone\": 776280909\n",
    "    },\n",
    "    {\n",
    "        \"prenom\": \"Fama\",\n",
    "        \"nom\": \"Mbow\",\n",
    "        \"telephone\": 776549987\n",
    "    },\n",
    "    {\n",
    "        \"prenom\": \"Demba\",\n",
    "        \"nom\": \"BA\",\n",
    "        \"telephone\": 789854432\n",
    "    },\n",
    "    {\n",
    "        \"prenom\": \"Oumy\",\n",
    "        \"nom\": \"DIAW\",\n",
    "        \"telephone\": 769453476\n",
    "    }\n",
    "]\n",
    "\n"
   ]
  },
  {
   "cell_type": "code",
   "execution_count": null,
   "metadata": {},
   "outputs": [],
   "source": [
    "def ShowHandler(etudiants):\n",
    "    print('+---------------------------------------------------------------------------------------------------------------------------------------+')\n",
    "    print('|\\tPrénom\\t|\\tNom\\t|\\tTéléphone\\t|\\tClasses\\t|\\tDev\\t|\\tProj\\t|\\tExam\\t|\\tMoyenne\\t|')\n",
    "    print('+---------------------------------------------------------------------------------------------------------------------------------------+')\n",
    "    a=\"Vide\"\n",
    "    for etudiant in etudiants:\n",
    "        print('|\\t{}\\t|\\t{}\\t|\\t{}\\t|'.format(etudiant[\"prenom\"],etudiant[\"nom\"],etudiant[\"telephone\"]))\n",
    "        print('+---------------------------------------------------------------------------------------------------------------------------------------+')"
   ]
  },
  {
   "cell_type": "code",
   "execution_count": null,
   "metadata": {},
   "outputs": [],
   "source": [
    "etudiants.append({\n",
    "        \"prenom\": \"Bocar\",\n",
    "        \"nom\": \"NDAW\",\n",
    "        \"telephone\": 339887689\n",
    "    })\n",
    "ShowHandler(etudiants)"
   ]
  },
  {
   "cell_type": "code",
   "execution_count": null,
   "metadata": {},
   "outputs": [],
   "source": [
    "# for i in e:\n",
    "#     print(i[\"moy\"])\n",
    "# 18 - 13 - 8 - DECROISSANT\n",
    "# print(\"------------------------------------------\")\n",
    "e = [\n",
    "        \n",
    "        {\n",
    "            \"prenom\": \"Demba\",\n",
    "            \"nom\": \"BA\",\n",
    "            \"telephone\": 789854432,\n",
    "            \"classe\":\"L1\",\n",
    "            \"dev\":10,\n",
    "            \"projet\":10,\n",
    "            \"exam\":10,\n",
    "            \"moy\":13\n",
    "        },\n",
    "        {\n",
    "            \"prenom\": \"Mamadou\",\n",
    "            \"nom\": \"Thiam\",\n",
    "            \"telephone\": 776280909,\n",
    "            \"classe\":\"L1\",\n",
    "            \"dev\":12.75,\n",
    "            \"projet\":15.45,\n",
    "            \"exam\":14.25,\n",
    "            \"moy\":8\n",
    "        },\n",
    "        {\n",
    "            \"prenom\": \"Oumy\",\n",
    "            \"nom\": \"DIAW\",\n",
    "            \"telephone\": 769453476,\n",
    "            \"classe\":\"L1\",\n",
    "            \"dev\":10,\n",
    "            \"projet\":10,\n",
    "            \"exam\":10,\n",
    "            \"moy\":18\n",
    "        }\n",
    "    ]\n",
    "for i in range(0,len(e)):\n",
    "    for j in range(i+1,len(e)):\n",
    "        if e[i][\"moy\"] >= e[i+1][\"moy\"]:\n",
    "            e[i],e[j]=e[j],e[i]\n",
    "        \n",
    "        \n",
    "for i in e:\n",
    "    print(i[\"moy\"])\n",
    "    \n",
    "    \n",
    "\n"
   ]
  },
  {
   "cell_type": "code",
   "execution_count": null,
   "metadata": {},
   "outputs": [],
   "source": [
    "a=[1,3,4,12,98,67,56,45]"
   ]
  },
  {
   "cell_type": "code",
   "execution_count": null,
   "metadata": {},
   "outputs": [],
   "source": [
    "my_list = [4, 2, 3, -1, -2, 0, 1]\n",
    "\n",
    "for i in range(len(my_list)):\n",
    "    for j in range(i + 1, len(my_list)):\n",
    "        if my_list[i] < my_list[j]:\n",
    "            my_list[i], my_list[j] = my_list[j], my_list[i]\n",
    "\n",
    "print(my_list)"
   ]
  },
  {
   "cell_type": "code",
   "execution_count": 117,
   "metadata": {},
   "outputs": [],
   "source": [
    "def CustomAppend(list,el):\n",
    "    el = [el]\n",
    "    list+=el\n",
    "    return list"
   ]
  },
  {
   "cell_type": "code",
   "execution_count": 123,
   "metadata": {},
   "outputs": [
    {
     "name": "stdout",
     "output_type": "stream",
     "text": [
      "12\n",
      "14\n",
      "20\n"
     ]
    }
   ],
   "source": [
    "tab=[]\n",
    "CustomAppend(tab,12)\n",
    "CustomAppend(tab,14)\n",
    "CustomAppend(tab,20)\n",
    "for i in tab:\n",
    "    print(i)"
   ]
  }
 ],
 "metadata": {
  "kernelspec": {
   "display_name": "Python 3",
   "language": "python",
   "name": "python3"
  },
  "language_info": {
   "codemirror_mode": {
    "name": "ipython",
    "version": 3
   },
   "file_extension": ".py",
   "mimetype": "text/x-python",
   "name": "python",
   "nbconvert_exporter": "python",
   "pygments_lexer": "ipython3",
   "version": "3.10.6"
  },
  "orig_nbformat": 4,
  "vscode": {
   "interpreter": {
    "hash": "916dbcbb3f70747c44a77c7bcd40155683ae19c65e1c03b4aa3499c5328201f1"
   }
  }
 },
 "nbformat": 4,
 "nbformat_minor": 2
}
